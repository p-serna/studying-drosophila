{
 "cells": [
  {
   "cell_type": "code",
   "execution_count": 2,
   "metadata": {},
   "outputs": [],
   "source": [
    "import numpy as np \n",
    "import pandas as pd \n",
    "import matplotlib.pylab as plt\n",
    "%matplotlib inline\n",
    "import Bio"
   ]
  },
  {
   "cell_type": "code",
   "execution_count": 3,
   "metadata": {},
   "outputs": [
    {
     "name": "stdout",
     "output_type": "stream",
     "text": [
      "Biopython v1.76\n"
     ]
    }
   ],
   "source": [
    "print(\"Biopython v\" + Bio.__version__)"
   ]
  },
  {
   "cell_type": "markdown",
   "metadata": {},
   "source": [
    "## First look at sequences"
   ]
  },
  {
   "cell_type": "code",
   "execution_count": 7,
   "metadata": {},
   "outputs": [
    {
     "name": "stdout",
     "output_type": "stream",
     "text": [
      "AAGTTAGATCGATTACACTAGT\n"
     ]
    }
   ],
   "source": [
    "from Bio.Seq import Seq\n",
    "sequence = Seq(\"AAGTTAGATCGATTACACTAGT\")\n",
    "print(sequence)\n"
   ]
  },
  {
   "cell_type": "code",
   "execution_count": 11,
   "metadata": {},
   "outputs": [],
   "source": [
    "seqalph = sequence.alphabet"
   ]
  },
  {
   "cell_type": "code",
   "execution_count": 12,
   "metadata": {},
   "outputs": [
    {
     "data": {
      "text/plain": [
       "(None, None)"
      ]
     },
     "execution_count": 12,
     "metadata": {},
     "output_type": "execute_result"
    }
   ],
   "source": [
    "seqalph.letters,seqalph.size "
   ]
  },
  {
   "cell_type": "code",
   "execution_count": 13,
   "metadata": {},
   "outputs": [
    {
     "name": "stdout",
     "output_type": "stream",
     "text": [
      "AAGTTAGATCGATTACACTAGT | Sequence \n",
      "TTCAATCTAGCTAATGTGATCA | Complement \n",
      "ACTAGTGTAATCGATCTAACTT | Reverse complement \n"
     ]
    }
   ],
   "source": [
    "print('{} | Sequence '.format(sequence))\n",
    "print('{} | Complement '.format(sequence.complement()))\n",
    "print('{} | Reverse complement '.format(sequence.reverse_complement()))"
   ]
  },
  {
   "cell_type": "markdown",
   "metadata": {},
   "source": [
    "## Dealing with file formats"
   ]
  },
  {
   "cell_type": "code",
   "execution_count": 15,
   "metadata": {},
   "outputs": [
    {
     "name": "stdout",
     "output_type": "stream",
     "text": [
      "Id: chr2L \t Length: 23,513,712\n",
      "Seq('Cgacaatgcacgacagaggaagcagaacagatatttagattgcctctcattttc...gag', SingleLetterAlphabet())\n",
      "\n",
      "Id: chr2R \t Length: 25,286,936\n",
      "Seq('CTCAAGATAccttctacagattatttaaagctagtgcacaacaacaataaattg...ttc', SingleLetterAlphabet())\n",
      "\n",
      "Id: chr3L \t Length: 28,110,227\n",
      "Seq('TAGGGAGAAATATGATCgcgtatgcgagagtagtgccaacatattgtgctcttt...tat', SingleLetterAlphabet())\n",
      "\n"
     ]
    }
   ],
   "source": [
    "from Bio import SeqIO\n",
    "count = 0\n",
    "sequences = [] \n",
    "folder = \"drosophila-melanogaster-genome/\"\n",
    "for seq_record in SeqIO.parse(folder+\"genome.fa\", \"fasta\"):\n",
    "    if (count < 3):\n",
    "        sequences.append(seq_record)\n",
    "        print(\"Id: \" + seq_record.id + \" \\t \" + \"Length: \" + str(\"{:,d}\".format(len(seq_record))) )\n",
    "        print(repr(seq_record.seq) + \"\\n\")\n",
    "        count = count + 1"
   ]
  },
  {
   "cell_type": "markdown",
   "metadata": {},
   "source": [
    "What the previous command provides the first 3 sequence in the genomic data set of the Drosophila Melanogaster (Kaggle)"
   ]
  },
  {
   "cell_type": "code",
   "execution_count": 57,
   "metadata": {},
   "outputs": [],
   "source": [
    "\n",
    "lengths = []\n",
    "for seq_record in SeqIO.parse(folder+\"genome.fa\", \"fasta\"):\n",
    "    #print(\"Length: {:,d}\".format(len(seq_record))) \n",
    "    sequences.append(seq_record)\n",
    "    lengths.append(len(seq_record))"
   ]
  },
  {
   "cell_type": "code",
   "execution_count": 46,
   "metadata": {},
   "outputs": [],
   "source": [
    "#genome = pd.DataFrame(np.column_stack((sequences, lengths)),\n",
    "#                     columns = ['sequence', 'length'])"
   ]
  },
  {
   "cell_type": "code",
   "execution_count": 47,
   "metadata": {},
   "outputs": [
    {
     "data": {
      "image/png": "[encoded data removed]",
      "text/plain": [
       "<Figure size 432x288 with 1 Axes>"
      ]
     },
     "metadata": {
      "needs_background": "light"
     },
     "output_type": "display_data"
    }
   ],
   "source": [
    "h = plt.hist(np.log10(lengths),51)"
   ]
  },
  {
   "cell_type": "code",
   "execution_count": 49,
   "metadata": {},
   "outputs": [
    {
     "data": {
      "text/plain": [
       "143726002"
      ]
     },
     "execution_count": 49,
     "metadata": {},
     "output_type": "execute_result"
    }
   ],
   "source": [
    "np.sum(lengths)"
   ]
  },
  {
   "cell_type": "code",
   "execution_count": 19,
   "metadata": {},
   "outputs": [
    {
     "name": "stdout",
     "output_type": "stream",
     "text": [
      "Lengths of the 3 first sequences are 23513712, 25286936 and 28110227\n"
     ]
    }
   ],
   "source": [
    "print('Lengths of the 3 first sequences are {}, {} and {}'.format(\n",
    "                        *tuple(len(chrt) for chrt in sequences[:3])))"
   ]
  },
  {
   "cell_type": "code",
   "execution_count": 24,
   "metadata": {},
   "outputs": [
    {
     "name": "stdout",
     "output_type": "stream",
     "text": [
      "First characters are C, C and T\n",
      "Last characters are g, c and t\n",
      "476-th characters are g, c and c\n"
     ]
    }
   ],
   "source": [
    "print('First characters are {}, {} and {}'.format(\n",
    "                        *tuple(chrt[0] for chrt in sequences[:3])))\n",
    "print('Last characters are {}, {} and {}'.format(\n",
    "                        *tuple(chrt[-1] for chrt in sequences[:3])))\n",
    "i = np.random.randint(1000)\n",
    "print('{}-th characters are {}, {} and {}'.format(i,\n",
    "                        *tuple(chrt[i] for chrt in sequences[:3])))"
   ]
  },
  {
   "cell_type": "code",
   "execution_count": 58,
   "metadata": {},
   "outputs": [
    {
     "name": "stdout",
     "output_type": "stream",
     "text": [
      "Occurrences of G are 4428980, 4260578 and 4761392\n",
      "Occurrences of A are 6075234, 5579958 and 6523956\n",
      "Occurrences of T are 6067775, 5560784 and 6558241\n",
      "Occurrences of C are 4417944, 4265630 and 4766181\n"
     ]
    }
   ],
   "source": [
    "print('Occurrences of G are {}, {} and {}'.format(\n",
    "                        *tuple(chrt.seq.count(\"G\") \n",
    "                               for chrt in sequences[:3])))\n",
    "print('Occurrences of A are {}, {} and {}'.format(\n",
    "                        *tuple(chrt.seq.count(\"A\")\n",
    "                               for chrt in sequences[:3])))\n",
    "print('Occurrences of T are {}, {} and {}'.format(\n",
    "                        *tuple(chrt.seq.count(\"T\") \n",
    "                               for chrt in sequences[:3])))\n",
    "print('Occurrences of C are {}, {} and {}'.format(\n",
    "                        *tuple(chrt.seq.count(\"C\") \n",
    "                               for chrt in sequences[:3])))"
   ]
  },
  {
   "cell_type": "code",
   "execution_count": 95,
   "metadata": {},
   "outputs": [
    {
     "name": "stdout",
     "output_type": "stream",
     "text": [
      "CPU times: user 3.81 s, sys: 0 ns, total: 3.81 s\n",
      "Wall time: 3.81 s\n"
     ]
    }
   ],
   "source": [
    "%%time\n",
    "alphab = ['A', 'G', 'C', 'T', 'S']\n",
    "oc = {ch: [] for ch in alphab}\n",
    "for ch in alphab:\n",
    "    oc['Total_'+ch] =  []\n",
    "    \n",
    "for chrt in sequences:\n",
    "    for ch in alphab:\n",
    "        try:\n",
    "            oc[ch].append(chrt.seq.count(ch))\n",
    "            oc['Total_'+ch].append(len(chrt.seq))\n",
    "        except:\n",
    "            try:\n",
    "                oc[ch].append(chrt.count(ch))\n",
    "                oc['Total_'+ch].append(len(chrt))\n",
    "\n",
    "            except:\n",
    "                pass\n",
    "            \n",
    "    \n",
    "            "
   ]
  },
  {
   "cell_type": "code",
   "execution_count": 96,
   "metadata": {},
   "outputs": [],
   "source": [
    "\n",
    "for ch in alphab:\n",
    "    oc[ch] = np.array(oc[ch])\n",
    "    oc['Total_'+ch] = np.array(oc['Total_'+ch])"
   ]
  },
  {
   "cell_type": "code",
   "execution_count": 98,
   "metadata": {},
   "outputs": [
    {
     "data": {
      "text/plain": [
       "Text(0.5, 0, '# occurences')"
      ]
     },
     "execution_count": 98,
     "metadata": {},
     "output_type": "execute_result"
    },
    {
     "data": {
      "image/png": "[encoded data removed]",
      "text/plain": [
       "<Figure size 432x288 with 1 Axes>"
      ]
     },
     "metadata": {
      "needs_background": "light"
     },
     "output_type": "display_data"
    }
   ],
   "source": [
    "\n",
    "for ch in alphab:\n",
    "    h = plt.hist(np.log10(oc[ch][oc[ch]>0]),51,alpha = 0.5, label = ch)\n",
    "    \n",
    "plt.legend()\n",
    "plt.xlabel('# occurences')"
   ]
  },
  {
   "cell_type": "code",
   "execution_count": 32,
   "metadata": {},
   "outputs": [
    {
     "name": "stdout",
     "output_type": "stream",
     "text": [
      "GC contents are 37.62, 33.72 and 33.89\n"
     ]
    }
   ],
   "source": [
    "def gccontent(seq): \n",
    "    return 100*(seq.count(\"G\")+seq.count(\"C\"))/len(seq)\n",
    "    \n",
    "print('GC contents are {:.2f}, {:.2f} and {:.2f}'.format(\n",
    "                        *tuple(gccontent(chrt.seq) for chrt in sequences)))"
   ]
  },
  {
   "cell_type": "code",
   "execution_count": 33,
   "metadata": {},
   "outputs": [
    {
     "name": "stdout",
     "output_type": "stream",
     "text": [
      "GC contents are 41.78, 42.60 and 41.44\n"
     ]
    }
   ],
   "source": [
    "from Bio.SeqUtils import GC\n",
    "print('GC contents are {:.2f}, {:.2f} and {:.2f}'.format(\n",
    "                        *tuple(GC(chrt.seq) for chrt in sequences[:3])))"
   ]
  },
  {
   "cell_type": "code",
   "execution_count": 100,
   "metadata": {},
   "outputs": [],
   "source": [
    "gcC = []\n",
    "for chrt in sequences:\n",
    "    for ch in alphab:\n",
    "        try:\n",
    "            gcC.append(GC(chrt.seq))    \n",
    "        except:\n",
    "            try:\n",
    "                gcC.append(GC(chrt))\n",
    "            except:\n",
    "                pass"
   ]
  },
  {
   "cell_type": "code",
   "execution_count": 103,
   "metadata": {},
   "outputs": [
    {
     "data": {
      "text/plain": [
       "Text(0.5, 0, 'GC content')"
      ]
     },
     "execution_count": 103,
     "metadata": {},
     "output_type": "execute_result"
    },
    {
     "data": {
      "image/png": "[encoded data removed]",
      "text/plain": [
       "<Figure size 432x288 with 1 Axes>"
      ]
     },
     "metadata": {
      "needs_background": "light"
     },
     "output_type": "display_data"
    }
   ],
   "source": [
    "h = plt.hist(gcC, 51)\n",
    "plt.xlabel('GC content')"
   ]
  },
  {
   "cell_type": "markdown",
   "metadata": {},
   "source": [
    "The differences are in lowercase and capital letters!! Also there are S and s characters that represent an ambiguous G or C character."
   ]
  },
  {
   "cell_type": "markdown",
   "metadata": {},
   "source": [
    "## Machine Learning\n",
    "\n",
    "First we are going to change the representation to n-gram estimators:\n"
   ]
  },
  {
   "cell_type": "code",
   "execution_count": 34,
   "metadata": {},
   "outputs": [],
   "source": [
    "from sklearn.feature_extraction.text import CountVectorizer\n",
    "\n",
    "def ngram_estimator(n, a_text, s_text, full_output = False):\n",
    "    ''' Caculate the n-gram arrays corresponding to a_text and s_tex\n",
    "    '''\n",
    "    \n",
    "    counter = CountVectorizer(analyzer = 'word', ngram_range = (n,n))\n",
    "    \n",
    "    vocabulary = counter.fit([a_text, s_text]).vocabulary_\n",
    "    \n",
    "    ngrams = counter.fit_transform([a_text, s_text])\n",
    "    #print(vocabulary)\n",
    "    if full_output:\n",
    "        output = ngrams.toarray(), counter\n",
    "    else:\n",
    "        output = ngrams.toarray()\n",
    "    \n",
    "    return output"
   ]
  },
  {
   "cell_type": "markdown",
   "metadata": {},
   "source": [
    "### Containment\n",
    "\n",
    "Containment will help us determine similarity between sequences..\n",
    "\n",
    "$$\\mathrm{containment} = \\frac{|N_A\\cap N_S|}{|N_A|} $$\n",
    "\n"
   ]
  },
  {
   "cell_type": "code",
   "execution_count": 35,
   "metadata": {},
   "outputs": [],
   "source": [
    "# Calculate the ngram containment for one answer file/source file pair in a df\n",
    "def calculate_containment(seqA, seqB, n):\n",
    "    '''Calculates the containment between a given answer text and its associated source text.\n",
    "       This function creates a count of ngrams (of a size, n) for each text file in our data.\n",
    "       Then calculates the containment by finding the ngram count for a given answer text, \n",
    "       and its associated source text, and calculating the normalized intersection of those counts.\n",
    "       :param df: A dataframe with columns,\n",
    "           'File', 'Task', 'Category', 'Class', 'Text', and 'Datatype'\n",
    "       :param n: An integer that defines the ngram size\n",
    "       :param answer_filename: A filename for an answer text in the df, ex. 'g0pB_taskd.txt'\n",
    "       :return: A single containment value that represents the similarity\n",
    "           between an answer text and its source text.\n",
    "    '''\n",
    "    \n",
    "    \n",
    "    ngram_array = ngram_estimator(n, seqA, seqB)\n",
    "    ngram_min = ngram_array.min(axis=0)\n",
    "    containment = ngram_min.sum()/ngram_array[0,:].sum()\n",
    "        \n",
    "    return containment"
   ]
  },
  {
   "cell_type": "markdown",
   "metadata": {},
   "source": [
    "### Longest common sentence\n",
    "\n",
    "We use dynamic programming"
   ]
  },
  {
   "cell_type": "code",
   "execution_count": 36,
   "metadata": {},
   "outputs": [],
   "source": [
    "def lcs_norm_word(textA, textB):\n",
    "    '''Computes the longest common subsequence of words in two texts; returns a normalized value.\n",
    "       :param answer_text: The pre-processed text for an answer text\n",
    "       :param source_text: The pre-processed text for an answer's associated source text\n",
    "       :return: A normalized LCS value'''\n",
    "    \n",
    "    A_l = textA.split()\n",
    "    B_l = textB.split()\n",
    "    lcsmatrix = np.zeros((len(B_l)+1,len(A_l)+1))\n",
    "    idx = 0\n",
    "    for i, word in enumerate(B_l):\n",
    "        for j, word_A in enumerate(A_l):\n",
    "            if word == word_A:\n",
    "                lcsmatrix[i+1,j+1] = lcsmatrix[i,j]+1.0\n",
    "            else:\n",
    "                lcsmatrix[i+1,j+1] = np.max([lcsmatrix[i+1,j], \n",
    "                                             lcsmatrix[i,j+1]])\n",
    "                \n",
    "    return lcsmatrix[-1,-1]/len(A_l)\n"
   ]
  },
  {
   "cell_type": "markdown",
   "metadata": {},
   "source": [
    "Now we create containment features"
   ]
  },
  {
   "cell_type": "code",
   "execution_count": 113,
   "metadata": {},
   "outputs": [],
   "source": [
    "\n",
    "def create_containment_features(sequences, n):\n",
    "    \n",
    "    containment_values = []\n",
    "    \n",
    "    # iterates through sequences\n",
    "    for i, seqA in enumerate(sequences):\n",
    "        for j, seqB in enumerate(sequences[i+1:]):\n",
    "            c = calculate_containment(seqA, seqB, n)\n",
    "            containment_values.append(c)\n",
    "    \n",
    "    print(str(n)+'-gram containment features created!')\n",
    "    return containment_values\n"
   ]
  },
  {
   "cell_type": "code",
   "execution_count": 114,
   "metadata": {},
   "outputs": [],
   "source": [
    "def create_lcs_features(sequences):\n",
    "    \n",
    "    lcs_values = []\n",
    "    \n",
    "    for i, seqA in enumerate(sequences):\n",
    "        for j, seqB in enumerate(sequences[i+1:]):\n",
    "            # calculate lcs\n",
    "            lcs = lcs_norm_word(seqA, seqB)\n",
    "            lcs_values.append(lcs)\n",
    "            \n",
    "    print('LCS features created!')\n",
    "    return lcs_values"
   ]
  },
  {
   "cell_type": "code",
   "execution_count": 117,
   "metadata": {},
   "outputs": [
    {
     "name": "stdout",
     "output_type": "stream",
     "text": [
      "5613\n"
     ]
    }
   ],
   "source": [
    "strseq = []\n",
    "for seq in sequences:\n",
    "    try:\n",
    "        strseq.append(str(seq.seq))\n",
    "    except:\n",
    "        try:\n",
    "            strseq.append(str(seq))\n",
    "        except:\n",
    "            pass\n",
    "print(len(strseq))"
   ]
  },
  {
   "cell_type": "code",
   "execution_count": null,
   "metadata": {},
   "outputs": [],
   "source": [
    "ngram_range = range(1,10)\n",
    "\n",
    "features_list = []\n",
    "\n",
    "all_features = np.zeros((len(ngram_range)+1, \n",
    "                         len(sequences)*(len(sequences)-1)//2))\n",
    "\n",
    "# Calculate features for containment for ngrams in range\n",
    "i=0\n",
    "for n in ngram_range:\n",
    "    column_name = 'c_'+str(n)\n",
    "    features_list.append(column_name)\n",
    "    # create containment features\n",
    "    all_features[i]=np.squeeze(create_containment_features(strseq, n))\n",
    "    i+=1\n",
    "\n",
    "# Calculate features for LCS_Norm Words \n",
    "features_list.append('lcs_word')\n",
    "all_features[i]= np.squeeze(create_lcs_features(strseq))\n",
    "\n",
    "# create a features dataframe\n",
    "features_df = pd.DataFrame(np.transpose(all_features), columns=features_list)\n",
    "\n",
    "# Print all features/columns\n",
    "print()\n",
    "print('Features: ', features_list)\n",
    "print()"
   ]
  },
  {
   "cell_type": "code",
   "execution_count": null,
   "metadata": {},
   "outputs": [],
   "source": []
  }
 ],
 "metadata": {
  "kernelspec": {
   "display_name": "Python 3",
   "language": "python",
   "name": "python3"
  },
  "language_info": {
   "codemirror_mode": {
    "name": "ipython",
    "version": 3
   },
   "file_extension": ".py",
   "mimetype": "text/x-python",
   "name": "python",
   "nbconvert_exporter": "python",
   "pygments_lexer": "ipython3",
   "version": "3.6.10"
  }
 },
 "nbformat": 4,
 "nbformat_minor": 4
}
