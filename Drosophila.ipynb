{
 "cells": [
  {
   "cell_type": "code",
   "execution_count": 1,
   "metadata": {},
   "outputs": [],
   "source": [
    "import numpy as np \n",
    "import pandas as pd \n",
    "import matplotlib.pylab as plt\n",
    "%matplotlib inline\n",
    "import Bio"
   ]
  },
  {
   "cell_type": "code",
   "execution_count": 2,
   "metadata": {},
   "outputs": [
    {
     "name": "stdout",
     "output_type": "stream",
     "text": [
      "Biopython v1.76\n"
     ]
    }
   ],
   "source": [
    "print(\"Biopython v\" + Bio.__version__)"
   ]
  },
  {
   "cell_type": "markdown",
   "metadata": {},
   "source": [
    "## First look at sequences"
   ]
  },
  {
   "cell_type": "code",
   "execution_count": 3,
   "metadata": {},
   "outputs": [
    {
     "name": "stdout",
     "output_type": "stream",
     "text": [
      "AAGTTAGATCGATTACACTAGT\n"
     ]
    }
   ],
   "source": [
    "from Bio.Seq import Seq\n",
    "sequence = Seq(\"AAGTTAGATCGATTACACTAGT\")\n",
    "print(sequence)\n"
   ]
  },
  {
   "cell_type": "code",
   "execution_count": 4,
   "metadata": {},
   "outputs": [],
   "source": [
    "seqalph = sequence.alphabet"
   ]
  },
  {
   "cell_type": "code",
   "execution_count": 5,
   "metadata": {},
   "outputs": [
    {
     "data": {
      "text/plain": [
       "(None, None)"
      ]
     },
     "execution_count": 5,
     "metadata": {},
     "output_type": "execute_result"
    }
   ],
   "source": [
    "seqalph.letters,seqalph.size "
   ]
  },
  {
   "cell_type": "code",
   "execution_count": 6,
   "metadata": {},
   "outputs": [
    {
     "name": "stdout",
     "output_type": "stream",
     "text": [
      "AAGTTAGATCGATTACACTAGT | Sequence \n",
      "TTCAATCTAGCTAATGTGATCA | Complement \n",
      "ACTAGTGTAATCGATCTAACTT | Reverse complement \n"
     ]
    }
   ],
   "source": [
    "print('{} | Sequence '.format(sequence))\n",
    "print('{} | Complement '.format(sequence.complement()))\n",
    "print('{} | Reverse complement '.format(sequence.reverse_complement()))"
   ]
  },
  {
   "cell_type": "markdown",
   "metadata": {},
   "source": [
    "## Dealing with file formats"
   ]
  },
  {
   "cell_type": "code",
   "execution_count": 7,
   "metadata": {},
   "outputs": [
    {
     "name": "stdout",
     "output_type": "stream",
     "text": [
      "Id: chr2L \t Length: 23,513,712\n",
      "Seq('Cgacaatgcacgacagaggaagcagaacagatatttagattgcctctcattttc...gag', SingleLetterAlphabet())\n",
      "\n",
      "Id: chr2R \t Length: 25,286,936\n",
      "Seq('CTCAAGATAccttctacagattatttaaagctagtgcacaacaacaataaattg...ttc', SingleLetterAlphabet())\n",
      "\n",
      "Id: chr3L \t Length: 28,110,227\n",
      "Seq('TAGGGAGAAATATGATCgcgtatgcgagagtagtgccaacatattgtgctcttt...tat', SingleLetterAlphabet())\n",
      "\n"
     ]
    }
   ],
   "source": [
    "from Bio import SeqIO\n",
    "count = 0\n",
    "sequences = [] \n",
    "folder = \"drosophila-melanogaster-genome/\"\n",
    "for seq_record in SeqIO.parse(folder+\"genome.fa\", \"fasta\"):\n",
    "    if (count < 3):\n",
    "        sequences.append(seq_record)\n",
    "        print(\"Id: \" + seq_record.id + \" \\t \" + \"Length: \" + str(\"{:,d}\".format(len(seq_record))) )\n",
    "        print(repr(seq_record.seq) + \"\\n\")\n",
    "        count = count + 1"
   ]
  },
  {
   "cell_type": "markdown",
   "metadata": {},
   "source": [
    "What the previous command provides the first 3 sequence in the genomic data set of the Drosophila Melanogaster (Kaggle)"
   ]
  },
  {
   "cell_type": "code",
   "execution_count": 8,
   "metadata": {},
   "outputs": [],
   "source": [
    "\n",
    "lengths = []\n",
    "for seq_record in SeqIO.parse(folder+\"genome.fa\", \"fasta\"):\n",
    "    #print(\"Length: {:,d}\".format(len(seq_record))) \n",
    "    sequences.append(seq_record)\n",
    "    lengths.append(len(seq_record))"
   ]
  },
  {
   "cell_type": "code",
   "execution_count": 9,
   "metadata": {},
   "outputs": [],
   "source": [
    "#genome = pd.DataFrame(np.column_stack((sequences, lengths)),\n",
    "#                     columns = ['sequence', 'length'])"
   ]
  },
  {
   "cell_type": "code",
   "execution_count": 10,
   "metadata": {},
   "outputs": [
    {
     "data": {
      "image/png": "[encoded data removed]",
      "text/plain": [
       "<Figure size 432x288 with 1 Axes>"
      ]
     },
     "metadata": {
      "needs_background": "light"
     },
     "output_type": "display_data"
    }
   ],
   "source": [
    "h = plt.hist(np.log10(lengths),51)"
   ]
  },
  {
   "cell_type": "code",
   "execution_count": 11,
   "metadata": {},
   "outputs": [
    {
     "data": {
      "text/plain": [
       "143726002"
      ]
     },
     "execution_count": 11,
     "metadata": {},
     "output_type": "execute_result"
    }
   ],
   "source": [
    "np.sum(lengths)"
   ]
  },
  {
   "cell_type": "code",
   "execution_count": 12,
   "metadata": {},
   "outputs": [
    {
     "name": "stdout",
     "output_type": "stream",
     "text": [
      "Lengths of the 3 first sequences are 23513712, 25286936 and 28110227\n"
     ]
    }
   ],
   "source": [
    "print('Lengths of the 3 first sequences are {}, {} and {}'.format(\n",
    "                        *tuple(len(chrt) for chrt in sequences[:3])))"
   ]
  },
  {
   "cell_type": "code",
   "execution_count": 13,
   "metadata": {},
   "outputs": [
    {
     "name": "stdout",
     "output_type": "stream",
     "text": [
      "First characters are C, C and T\n",
      "Last characters are g, c and t\n",
      "586-th characters are g, a and A\n"
     ]
    }
   ],
   "source": [
    "print('First characters are {}, {} and {}'.format(\n",
    "                        *tuple(chrt[0] for chrt in sequences[:3])))\n",
    "print('Last characters are {}, {} and {}'.format(\n",
    "                        *tuple(chrt[-1] for chrt in sequences[:3])))\n",
    "i = np.random.randint(1000)\n",
    "print('{}-th characters are {}, {} and {}'.format(i,\n",
    "                        *tuple(chrt[i] for chrt in sequences[:3])))"
   ]
  },
  {
   "cell_type": "code",
   "execution_count": 14,
   "metadata": {},
   "outputs": [
    {
     "name": "stdout",
     "output_type": "stream",
     "text": [
      "Occurrences of G are 4428980, 4260578 and 4761392\n",
      "Occurrences of A are 6075234, 5579958 and 6523956\n",
      "Occurrences of T are 6067775, 5560784 and 6558241\n",
      "Occurrences of C are 4417944, 4265630 and 4766181\n"
     ]
    }
   ],
   "source": [
    "print('Occurrences of G are {}, {} and {}'.format(\n",
    "                        *tuple(chrt.seq.count(\"G\") \n",
    "                               for chrt in sequences[:3])))\n",
    "print('Occurrences of A are {}, {} and {}'.format(\n",
    "                        *tuple(chrt.seq.count(\"A\")\n",
    "                               for chrt in sequences[:3])))\n",
    "print('Occurrences of T are {}, {} and {}'.format(\n",
    "                        *tuple(chrt.seq.count(\"T\") \n",
    "                               for chrt in sequences[:3])))\n",
    "print('Occurrences of C are {}, {} and {}'.format(\n",
    "                        *tuple(chrt.seq.count(\"C\") \n",
    "                               for chrt in sequences[:3])))"
   ]
  },
  {
   "cell_type": "code",
   "execution_count": 15,
   "metadata": {},
   "outputs": [
    {
     "name": "stdout",
     "output_type": "stream",
     "text": [
      "CPU times: user 1.66 s, sys: 0 ns, total: 1.66 s\n",
      "Wall time: 1.66 s\n"
     ]
    }
   ],
   "source": [
    "%%time\n",
    "alphab = ['A', 'G', 'C', 'T', 'S']\n",
    "oc = {ch: [] for ch in alphab}\n",
    "for ch in alphab:\n",
    "    oc['Total_'+ch] =  []\n",
    "    \n",
    "for chrt in sequences:\n",
    "    for ch in alphab:\n",
    "        try:\n",
    "            oc[ch].append(chrt.seq.count(ch))\n",
    "            oc['Total_'+ch].append(len(chrt.seq))\n",
    "        except:\n",
    "            try:\n",
    "                oc[ch].append(chrt.count(ch))\n",
    "                oc['Total_'+ch].append(len(chrt))\n",
    "\n",
    "            except:\n",
    "                pass\n",
    "            \n",
    "    \n",
    "            "
   ]
  },
  {
   "cell_type": "code",
   "execution_count": 16,
   "metadata": {},
   "outputs": [],
   "source": [
    "\n",
    "for ch in alphab:\n",
    "    oc[ch] = np.array(oc[ch])\n",
    "    oc['Total_'+ch] = np.array(oc['Total_'+ch])"
   ]
  },
  {
   "cell_type": "code",
   "execution_count": 17,
   "metadata": {},
   "outputs": [
    {
     "data": {
      "text/plain": [
       "Text(0.5, 0, '# occurences')"
      ]
     },
     "execution_count": 17,
     "metadata": {},
     "output_type": "execute_result"
    },
    {
     "data": {
      "image/png": "[encoded data removed]",
      "text/plain": [
       "<Figure size 432x288 with 1 Axes>"
      ]
     },
     "metadata": {
      "needs_background": "light"
     },
     "output_type": "display_data"
    }
   ],
   "source": [
    "\n",
    "for ch in alphab:\n",
    "    h = plt.hist(np.log10(oc[ch][oc[ch]>0]),51,alpha = 0.5, label = ch)\n",
    "    \n",
    "plt.legend()\n",
    "plt.xlabel('# occurences')"
   ]
  },
  {
   "cell_type": "code",
   "execution_count": 18,
   "metadata": {},
   "outputs": [
    {
     "name": "stdout",
     "output_type": "stream",
     "text": [
      "GC contents are 37.62, 33.72 and 33.89\n"
     ]
    }
   ],
   "source": [
    "def gccontent(seq): \n",
    "    return 100*(seq.count(\"G\")+seq.count(\"C\"))/len(seq)\n",
    "    \n",
    "print('GC contents are {:.2f}, {:.2f} and {:.2f}'.format(\n",
    "                        *tuple(gccontent(chrt.seq) for chrt in sequences)))"
   ]
  },
  {
   "cell_type": "code",
   "execution_count": 19,
   "metadata": {},
   "outputs": [
    {
     "name": "stdout",
     "output_type": "stream",
     "text": [
      "GC contents are 41.78, 42.60 and 41.44\n"
     ]
    }
   ],
   "source": [
    "from Bio.SeqUtils import GC\n",
    "print('GC contents are {:.2f}, {:.2f} and {:.2f}'.format(\n",
    "                        *tuple(GC(chrt.seq) for chrt in sequences[:3])))"
   ]
  },
  {
   "cell_type": "code",
   "execution_count": 20,
   "metadata": {},
   "outputs": [],
   "source": [
    "gcC = []\n",
    "for chrt in sequences:\n",
    "    for ch in alphab:\n",
    "        try:\n",
    "            gcC.append(GC(chrt.seq))    \n",
    "        except:\n",
    "            try:\n",
    "                gcC.append(GC(chrt))\n",
    "            except:\n",
    "                pass"
   ]
  },
  {
   "cell_type": "code",
   "execution_count": 21,
   "metadata": {},
   "outputs": [
    {
     "data": {
      "text/plain": [
       "Text(0.5, 0, 'GC content')"
      ]
     },
     "execution_count": 21,
     "metadata": {},
     "output_type": "execute_result"
    },
    {
     "data": {
      "image/png": "[encoded data removed]",
      "text/plain": [
       "<Figure size 432x288 with 1 Axes>"
      ]
     },
     "metadata": {
      "needs_background": "light"
     },
     "output_type": "display_data"
    }
   ],
   "source": [
    "h = plt.hist(gcC, 51)\n",
    "plt.xlabel('GC content')"
   ]
  },
  {
   "cell_type": "markdown",
   "metadata": {},
   "source": [
    "The differences are in lowercase and capital letters!! Also there are S and s characters that represent an ambiguous G or C character."
   ]
  },
  {
   "cell_type": "markdown",
   "metadata": {},
   "source": [
    "## Machine Learning\n",
    "\n",
    "First we are going to change the representation to n-gram or k-mer estimators:\n"
   ]
  },
  {
   "cell_type": "code",
   "execution_count": 34,
   "metadata": {},
   "outputs": [],
   "source": [
    "def getKmers(sequence, size):\n",
    "    return [sequence[x:x+size].lower() for x in range(len(sequence) - size + 1)]"
   ]
  },
  {
   "cell_type": "code",
   "execution_count": 36,
   "metadata": {},
   "outputs": [
    {
     "name": "stdout",
     "output_type": "stream",
     "text": [
      "agtcga gtcgat tcgata cgataa gataat ataatg taatgc\n"
     ]
    }
   ],
   "source": [
    "test = ' '.join(getKmers('AGTCGATAATGC', size = 6))\n",
    "print(test)"
   ]
  },
  {
   "cell_type": "code",
   "execution_count": 77,
   "metadata": {},
   "outputs": [],
   "source": [
    "from sklearn.feature_extraction.text import CountVectorizer\n",
    "\n",
    "def kmer_estimator(n, seqA, seqB, full_output = False):\n",
    "    ''' Caculate the n-gram arrays corresponding to a_text and s_tex\n",
    "    '''\n",
    "    \n",
    "    kmerA = ' '.join(getKmers(seqA, size = n))\n",
    "    kmerB = ' '.join(getKmers(seqB, size = n))\n",
    "    \n",
    "    counter = CountVectorizer( ngram_range = (n,n), )\n",
    "    \n",
    "    vocabulary = counter.fit([kmerA, kmerB]).vocabulary_\n",
    "    \n",
    "    ngrams = counter.fit_transform([kmerA, kmerB])\n",
    "    #print(vocabulary)\n",
    "    if full_output:\n",
    "        output = ngrams.toarray(), counter\n",
    "    else:\n",
    "        output = ngrams.toarray()\n",
    "    \n",
    "    return output"
   ]
  },
  {
   "cell_type": "code",
   "execution_count": 78,
   "metadata": {},
   "outputs": [
    {
     "data": {
      "text/plain": [
       "array([[1, 0, 0, 1, 1, 1, 1, 1, 1, 0, 0, 1, 1, 1, 1, 1, 1, 0, 1, 1, 1, 1,\n",
       "        1, 0],\n",
       "       [0, 1, 1, 0, 0, 0, 0, 0, 1, 1, 1, 0, 0, 0, 0, 1, 0, 1, 0, 0, 0, 1,\n",
       "        0, 1]])"
      ]
     },
     "execution_count": 78,
     "metadata": {},
     "output_type": "execute_result"
    }
   ],
   "source": [
    "testA = \"AAGTTAGATCGATTACACTAGT\"\n",
    "testB = \"GATTACAATTAGC\"\n",
    "kmer_estimator(3, testA, testB)"
   ]
  },
  {
   "cell_type": "markdown",
   "metadata": {},
   "source": [
    "### Containment\n",
    "\n",
    "Containment will help us determine similarity between sequences..\n",
    "\n",
    "$$\\mathrm{containment} = \\frac{|N_A\\cap N_S|}{|N_A|} $$\n",
    "\n"
   ]
  },
  {
   "cell_type": "code",
   "execution_count": 38,
   "metadata": {},
   "outputs": [],
   "source": [
    "# Calculate the ngram containment for one answer file/source file pair in a df\n",
    "def calculate_containment(seqA, seqB, n):\n",
    "    '''Calculates the containment between a given answer text and its associated source text.\n",
    "       This function creates a count of ngrams (of a size, n) for each text file in our data.\n",
    "       Then calculates the containment by finding the ngram count for a given answer text, \n",
    "       and its associated source text, and calculating the normalized intersection of those counts.\n",
    "       :param df: A dataframe with columns,\n",
    "           'File', 'Task', 'Category', 'Class', 'Text', and 'Datatype'\n",
    "       :param n: An integer that defines the ngram size\n",
    "       :param answer_filename: A filename for an answer text in the df, ex. 'g0pB_taskd.txt'\n",
    "       :return: A single containment value that represents the similarity\n",
    "           between an answer text and its source text.\n",
    "    '''\n",
    "    \n",
    "    \n",
    "    kmer_array = kmer_estimator(n, seqA, seqB)\n",
    "    kmer_min = kmer_array.min(axis=0)\n",
    "    containment = kmer_min.sum()/kmer_array[0,:].sum()\n",
    "        \n",
    "    return containment"
   ]
  },
  {
   "cell_type": "code",
   "execution_count": 46,
   "metadata": {},
   "outputs": [
    {
     "name": "stdout",
     "output_type": "stream",
     "text": [
      "0.35 0.16666666666666666 0.0625 0.0\n"
     ]
    }
   ],
   "source": [
    "print(*tuple(calculate_containment(testA, testB, n) for n in range(2,6)))"
   ]
  },
  {
   "cell_type": "markdown",
   "metadata": {},
   "source": [
    "### Longest common sentence\n",
    "\n",
    "We use dynamic programming"
   ]
  },
  {
   "cell_type": "code",
   "execution_count": 24,
   "metadata": {},
   "outputs": [],
   "source": [
    "def lcs_norm_word(textA, textB):\n",
    "    '''Computes the longest common subsequence of words in two texts; returns a normalized value.\n",
    "       :param answer_text: The pre-processed text for an answer text\n",
    "       :param source_text: The pre-processed text for an answer's associated source text\n",
    "       :return: A normalized LCS value'''\n",
    "    \n",
    "    A_l = textA.split()\n",
    "    B_l = textB.split()\n",
    "    lcsmatrix = np.zeros((len(B_l)+1,len(A_l)+1))\n",
    "    idx = 0\n",
    "    for i, word in enumerate(B_l):\n",
    "        for j, word_A in enumerate(A_l):\n",
    "            if word == word_A:\n",
    "                lcsmatrix[i+1,j+1] = lcsmatrix[i,j]+1.0\n",
    "            else:\n",
    "                lcsmatrix[i+1,j+1] = np.max([lcsmatrix[i+1,j], \n",
    "                                             lcsmatrix[i,j+1]])\n",
    "                \n",
    "    return lcsmatrix[-1,-1]/len(A_l)\n"
   ]
  },
  {
   "cell_type": "markdown",
   "metadata": {},
   "source": [
    "Now we create containment features"
   ]
  },
  {
   "cell_type": "code",
   "execution_count": 39,
   "metadata": {},
   "outputs": [],
   "source": [
    "\n",
    "def create_containment_features(sequences, n):\n",
    "    \n",
    "    containment_values = []\n",
    "    \n",
    "    # iterates through sequences\n",
    "    for i, seqA in enumerate(sequences):\n",
    "        for j, seqB in enumerate(sequences[i+1:]):\n",
    "            c = calculate_containment(seqA, seqB, n)\n",
    "            containment_values.append(c)\n",
    "    \n",
    "    print(str(n)+'-gram containment features created!')\n",
    "    return containment_values\n"
   ]
  },
  {
   "cell_type": "code",
   "execution_count": 26,
   "metadata": {},
   "outputs": [],
   "source": [
    "def create_lcs_features(sequences):\n",
    "    \n",
    "    lcs_values = []\n",
    "    \n",
    "    for i, seqA in enumerate(sequences):\n",
    "        for j, seqB in enumerate(sequences[i+1:]):\n",
    "            # calculate lcs\n",
    "            lcs = lcs_norm_word(seqA, seqB)\n",
    "            lcs_values.append(lcs)\n",
    "            \n",
    "    print('LCS features created!')\n",
    "    return lcs_values"
   ]
  },
  {
   "cell_type": "code",
   "execution_count": 27,
   "metadata": {},
   "outputs": [
    {
     "name": "stdout",
     "output_type": "stream",
     "text": [
      "1873\n"
     ]
    }
   ],
   "source": [
    "strseq = []\n",
    "for seq in sequences:\n",
    "    try:\n",
    "        strseq.append(str(seq.seq))\n",
    "    except:\n",
    "        try:\n",
    "            strseq.append(str(seq))\n",
    "        except:\n",
    "            pass\n",
    "print(len(strseq))"
   ]
  },
  {
   "cell_type": "code",
   "execution_count": 64,
   "metadata": {},
   "outputs": [
    {
     "name": "stdout",
     "output_type": "stream",
     "text": [
      "100 100 100 100 100\n"
     ]
    }
   ],
   "source": [
    "# We are going to test it for first 100 characters\n",
    "strseqt = [s[:100] for s in strseq[:100]]\n",
    "print(*tuple( len(s) for s in strseqt[:5]))"
   ]
  },
  {
   "cell_type": "code",
   "execution_count": 65,
   "metadata": {},
   "outputs": [
    {
     "name": "stdout",
     "output_type": "stream",
     "text": [
      "2-gram containment features created!\n",
      "3-gram containment features created!\n",
      "4-gram containment features created!\n",
      "5-gram containment features created!\n",
      "6-gram containment features created!\n",
      "7-gram containment features created!\n",
      "8-gram containment features created!\n",
      "9-gram containment features created!\n",
      "LCS features created!\n",
      "\n",
      "Features:  ['c_2', 'c_3', 'c_4', 'c_5', 'c_6', 'c_7', 'c_8', 'c_9', 'lcs_word']\n",
      "\n",
      "CPU times: user 37 s, sys: 20 ms, total: 37 s\n",
      "Wall time: 37 s\n"
     ]
    }
   ],
   "source": [
    "%%time\n",
    "nkmer_range = range(2,10)\n",
    "\n",
    "features_list = []\n",
    "\n",
    "all_features = np.zeros((len(nkmer_range)+1, \n",
    "                         len(strseqt)*(len(strseqt)-1)//2))\n",
    "\n",
    "# Calculate features for containment for nkmers in range\n",
    "i=0\n",
    "for n in nkmer_range:\n",
    "    column_name = 'c_'+str(n)\n",
    "    features_list.append(column_name)\n",
    "    # create containment features\n",
    "    all_features[i]=np.squeeze(create_containment_features(strseqt, n))\n",
    "    i+=1\n",
    "\n",
    "# Calculate features for LCS_Norm Words \n",
    "features_list.append('lcs_word')\n",
    "all_features[i]= np.squeeze(create_lcs_features(strseqt))\n",
    "\n",
    "# create a features dataframe\n",
    "features_df = pd.DataFrame(np.transpose(all_features), columns=features_list)\n",
    "\n",
    "# Print all features/columns\n",
    "print()\n",
    "print('Features: ', features_list)\n",
    "print()"
   ]
  },
  {
   "cell_type": "code",
   "execution_count": 66,
   "metadata": {},
   "outputs": [
    {
     "data": {
      "text/html": [
       "<div>\n",
       "<style scoped>\n",
       "    .dataframe tbody tr th:only-of-type {\n",
       "        vertical-align: middle;\n",
       "    }\n",
       "\n",
       "    .dataframe tbody tr th {\n",
       "        vertical-align: top;\n",
       "    }\n",
       "\n",
       "    .dataframe thead th {\n",
       "        text-align: right;\n",
       "    }\n",
       "</style>\n",
       "<table border=\"1\" class=\"dataframe\">\n",
       "  <thead>\n",
       "    <tr style=\"text-align: right;\">\n",
       "      <th></th>\n",
       "      <th>c_2</th>\n",
       "      <th>c_3</th>\n",
       "      <th>c_4</th>\n",
       "      <th>c_5</th>\n",
       "      <th>c_6</th>\n",
       "      <th>c_7</th>\n",
       "      <th>c_8</th>\n",
       "      <th>c_9</th>\n",
       "      <th>lcs_word</th>\n",
       "    </tr>\n",
       "  </thead>\n",
       "  <tbody>\n",
       "    <tr>\n",
       "      <th>0</th>\n",
       "      <td>0.510204</td>\n",
       "      <td>0.135417</td>\n",
       "      <td>0.010638</td>\n",
       "      <td>0.000000</td>\n",
       "      <td>0.000000</td>\n",
       "      <td>0.00</td>\n",
       "      <td>0.000000</td>\n",
       "      <td>0.000000</td>\n",
       "      <td>0.0</td>\n",
       "    </tr>\n",
       "    <tr>\n",
       "      <th>1</th>\n",
       "      <td>0.642857</td>\n",
       "      <td>0.343750</td>\n",
       "      <td>0.297872</td>\n",
       "      <td>0.282609</td>\n",
       "      <td>0.266667</td>\n",
       "      <td>0.25</td>\n",
       "      <td>0.232558</td>\n",
       "      <td>0.214286</td>\n",
       "      <td>0.0</td>\n",
       "    </tr>\n",
       "    <tr>\n",
       "      <th>2</th>\n",
       "      <td>1.000000</td>\n",
       "      <td>1.000000</td>\n",
       "      <td>1.000000</td>\n",
       "      <td>1.000000</td>\n",
       "      <td>1.000000</td>\n",
       "      <td>1.00</td>\n",
       "      <td>1.000000</td>\n",
       "      <td>1.000000</td>\n",
       "      <td>1.0</td>\n",
       "    </tr>\n",
       "    <tr>\n",
       "      <th>3</th>\n",
       "      <td>0.510204</td>\n",
       "      <td>0.135417</td>\n",
       "      <td>0.010638</td>\n",
       "      <td>0.000000</td>\n",
       "      <td>0.000000</td>\n",
       "      <td>0.00</td>\n",
       "      <td>0.000000</td>\n",
       "      <td>0.000000</td>\n",
       "      <td>0.0</td>\n",
       "    </tr>\n",
       "    <tr>\n",
       "      <th>4</th>\n",
       "      <td>0.642857</td>\n",
       "      <td>0.343750</td>\n",
       "      <td>0.297872</td>\n",
       "      <td>0.282609</td>\n",
       "      <td>0.266667</td>\n",
       "      <td>0.25</td>\n",
       "      <td>0.232558</td>\n",
       "      <td>0.214286</td>\n",
       "      <td>0.0</td>\n",
       "    </tr>\n",
       "    <tr>\n",
       "      <th>5</th>\n",
       "      <td>0.316327</td>\n",
       "      <td>0.041667</td>\n",
       "      <td>0.000000</td>\n",
       "      <td>0.000000</td>\n",
       "      <td>0.000000</td>\n",
       "      <td>0.00</td>\n",
       "      <td>0.000000</td>\n",
       "      <td>0.000000</td>\n",
       "      <td>0.0</td>\n",
       "    </tr>\n",
       "    <tr>\n",
       "      <th>6</th>\n",
       "      <td>0.153061</td>\n",
       "      <td>0.052083</td>\n",
       "      <td>0.021277</td>\n",
       "      <td>0.000000</td>\n",
       "      <td>0.000000</td>\n",
       "      <td>0.00</td>\n",
       "      <td>0.000000</td>\n",
       "      <td>0.000000</td>\n",
       "      <td>0.0</td>\n",
       "    </tr>\n",
       "    <tr>\n",
       "      <th>7</th>\n",
       "      <td>0.551020</td>\n",
       "      <td>0.177083</td>\n",
       "      <td>0.021277</td>\n",
       "      <td>0.000000</td>\n",
       "      <td>0.000000</td>\n",
       "      <td>0.00</td>\n",
       "      <td>0.000000</td>\n",
       "      <td>0.000000</td>\n",
       "      <td>0.0</td>\n",
       "    </tr>\n",
       "    <tr>\n",
       "      <th>8</th>\n",
       "      <td>0.173469</td>\n",
       "      <td>0.020833</td>\n",
       "      <td>0.000000</td>\n",
       "      <td>0.000000</td>\n",
       "      <td>0.000000</td>\n",
       "      <td>0.00</td>\n",
       "      <td>0.000000</td>\n",
       "      <td>0.000000</td>\n",
       "      <td>0.0</td>\n",
       "    </tr>\n",
       "    <tr>\n",
       "      <th>9</th>\n",
       "      <td>0.142857</td>\n",
       "      <td>0.010417</td>\n",
       "      <td>0.000000</td>\n",
       "      <td>0.000000</td>\n",
       "      <td>0.000000</td>\n",
       "      <td>0.00</td>\n",
       "      <td>0.000000</td>\n",
       "      <td>0.000000</td>\n",
       "      <td>0.0</td>\n",
       "    </tr>\n",
       "  </tbody>\n",
       "</table>\n",
       "</div>"
      ],
      "text/plain": [
       "        c_2       c_3       c_4       c_5       c_6   c_7       c_8       c_9  \\\n",
       "0  0.510204  0.135417  0.010638  0.000000  0.000000  0.00  0.000000  0.000000   \n",
       "1  0.642857  0.343750  0.297872  0.282609  0.266667  0.25  0.232558  0.214286   \n",
       "2  1.000000  1.000000  1.000000  1.000000  1.000000  1.00  1.000000  1.000000   \n",
       "3  0.510204  0.135417  0.010638  0.000000  0.000000  0.00  0.000000  0.000000   \n",
       "4  0.642857  0.343750  0.297872  0.282609  0.266667  0.25  0.232558  0.214286   \n",
       "5  0.316327  0.041667  0.000000  0.000000  0.000000  0.00  0.000000  0.000000   \n",
       "6  0.153061  0.052083  0.021277  0.000000  0.000000  0.00  0.000000  0.000000   \n",
       "7  0.551020  0.177083  0.021277  0.000000  0.000000  0.00  0.000000  0.000000   \n",
       "8  0.173469  0.020833  0.000000  0.000000  0.000000  0.00  0.000000  0.000000   \n",
       "9  0.142857  0.010417  0.000000  0.000000  0.000000  0.00  0.000000  0.000000   \n",
       "\n",
       "   lcs_word  \n",
       "0       0.0  \n",
       "1       0.0  \n",
       "2       1.0  \n",
       "3       0.0  \n",
       "4       0.0  \n",
       "5       0.0  \n",
       "6       0.0  \n",
       "7       0.0  \n",
       "8       0.0  \n",
       "9       0.0  "
      ]
     },
     "execution_count": 66,
     "metadata": {},
     "output_type": "execute_result"
    }
   ],
   "source": [
    "features_df.head(10)"
   ]
  },
  {
   "cell_type": "code",
   "execution_count": 67,
   "metadata": {},
   "outputs": [
    {
     "data": {
      "text/html": [
       "<div>\n",
       "<style scoped>\n",
       "    .dataframe tbody tr th:only-of-type {\n",
       "        vertical-align: middle;\n",
       "    }\n",
       "\n",
       "    .dataframe tbody tr th {\n",
       "        vertical-align: top;\n",
       "    }\n",
       "\n",
       "    .dataframe thead th {\n",
       "        text-align: right;\n",
       "    }\n",
       "</style>\n",
       "<table border=\"1\" class=\"dataframe\">\n",
       "  <thead>\n",
       "    <tr style=\"text-align: right;\">\n",
       "      <th></th>\n",
       "      <th>c_2</th>\n",
       "      <th>c_3</th>\n",
       "      <th>c_4</th>\n",
       "      <th>c_5</th>\n",
       "      <th>c_6</th>\n",
       "      <th>c_7</th>\n",
       "      <th>c_8</th>\n",
       "      <th>c_9</th>\n",
       "      <th>lcs_word</th>\n",
       "    </tr>\n",
       "  </thead>\n",
       "  <tbody>\n",
       "    <tr>\n",
       "      <th>c_2</th>\n",
       "      <td>1.00</td>\n",
       "      <td>0.71</td>\n",
       "      <td>0.26</td>\n",
       "      <td>0.19</td>\n",
       "      <td>0.18</td>\n",
       "      <td>0.17</td>\n",
       "      <td>0.17</td>\n",
       "      <td>0.16</td>\n",
       "      <td>0.08</td>\n",
       "    </tr>\n",
       "    <tr>\n",
       "      <th>c_3</th>\n",
       "      <td>0.71</td>\n",
       "      <td>1.00</td>\n",
       "      <td>0.77</td>\n",
       "      <td>0.69</td>\n",
       "      <td>0.64</td>\n",
       "      <td>0.63</td>\n",
       "      <td>0.62</td>\n",
       "      <td>0.61</td>\n",
       "      <td>0.29</td>\n",
       "    </tr>\n",
       "    <tr>\n",
       "      <th>c_4</th>\n",
       "      <td>0.26</td>\n",
       "      <td>0.77</td>\n",
       "      <td>1.00</td>\n",
       "      <td>0.97</td>\n",
       "      <td>0.93</td>\n",
       "      <td>0.91</td>\n",
       "      <td>0.90</td>\n",
       "      <td>0.89</td>\n",
       "      <td>0.44</td>\n",
       "    </tr>\n",
       "    <tr>\n",
       "      <th>c_5</th>\n",
       "      <td>0.19</td>\n",
       "      <td>0.69</td>\n",
       "      <td>0.97</td>\n",
       "      <td>1.00</td>\n",
       "      <td>0.98</td>\n",
       "      <td>0.97</td>\n",
       "      <td>0.96</td>\n",
       "      <td>0.96</td>\n",
       "      <td>0.49</td>\n",
       "    </tr>\n",
       "    <tr>\n",
       "      <th>c_6</th>\n",
       "      <td>0.18</td>\n",
       "      <td>0.64</td>\n",
       "      <td>0.93</td>\n",
       "      <td>0.98</td>\n",
       "      <td>1.00</td>\n",
       "      <td>1.00</td>\n",
       "      <td>0.99</td>\n",
       "      <td>0.99</td>\n",
       "      <td>0.52</td>\n",
       "    </tr>\n",
       "    <tr>\n",
       "      <th>c_7</th>\n",
       "      <td>0.17</td>\n",
       "      <td>0.63</td>\n",
       "      <td>0.91</td>\n",
       "      <td>0.97</td>\n",
       "      <td>1.00</td>\n",
       "      <td>1.00</td>\n",
       "      <td>1.00</td>\n",
       "      <td>1.00</td>\n",
       "      <td>0.54</td>\n",
       "    </tr>\n",
       "    <tr>\n",
       "      <th>c_8</th>\n",
       "      <td>0.17</td>\n",
       "      <td>0.62</td>\n",
       "      <td>0.90</td>\n",
       "      <td>0.96</td>\n",
       "      <td>0.99</td>\n",
       "      <td>1.00</td>\n",
       "      <td>1.00</td>\n",
       "      <td>1.00</td>\n",
       "      <td>0.55</td>\n",
       "    </tr>\n",
       "    <tr>\n",
       "      <th>c_9</th>\n",
       "      <td>0.16</td>\n",
       "      <td>0.61</td>\n",
       "      <td>0.89</td>\n",
       "      <td>0.96</td>\n",
       "      <td>0.99</td>\n",
       "      <td>1.00</td>\n",
       "      <td>1.00</td>\n",
       "      <td>1.00</td>\n",
       "      <td>0.57</td>\n",
       "    </tr>\n",
       "    <tr>\n",
       "      <th>lcs_word</th>\n",
       "      <td>0.08</td>\n",
       "      <td>0.29</td>\n",
       "      <td>0.44</td>\n",
       "      <td>0.49</td>\n",
       "      <td>0.52</td>\n",
       "      <td>0.54</td>\n",
       "      <td>0.55</td>\n",
       "      <td>0.57</td>\n",
       "      <td>1.00</td>\n",
       "    </tr>\n",
       "  </tbody>\n",
       "</table>\n",
       "</div>"
      ],
      "text/plain": [
       "           c_2   c_3   c_4   c_5   c_6   c_7   c_8   c_9  lcs_word\n",
       "c_2       1.00  0.71  0.26  0.19  0.18  0.17  0.17  0.16      0.08\n",
       "c_3       0.71  1.00  0.77  0.69  0.64  0.63  0.62  0.61      0.29\n",
       "c_4       0.26  0.77  1.00  0.97  0.93  0.91  0.90  0.89      0.44\n",
       "c_5       0.19  0.69  0.97  1.00  0.98  0.97  0.96  0.96      0.49\n",
       "c_6       0.18  0.64  0.93  0.98  1.00  1.00  0.99  0.99      0.52\n",
       "c_7       0.17  0.63  0.91  0.97  1.00  1.00  1.00  1.00      0.54\n",
       "c_8       0.17  0.62  0.90  0.96  0.99  1.00  1.00  1.00      0.55\n",
       "c_9       0.16  0.61  0.89  0.96  0.99  1.00  1.00  1.00      0.57\n",
       "lcs_word  0.08  0.29  0.44  0.49  0.52  0.54  0.55  0.57      1.00"
      ]
     },
     "metadata": {},
     "output_type": "display_data"
    }
   ],
   "source": [
    "corr_matrix = features_df.corr().abs().round(2)\n",
    "\n",
    "# display shows all of a dataframe\n",
    "display(corr_matrix)"
   ]
  },
  {
   "cell_type": "code",
   "execution_count": 72,
   "metadata": {},
   "outputs": [
    {
     "data": {
      "text/plain": [
       "Text(0.5, 1.0, 'Train dataset')"
      ]
     },
     "execution_count": 72,
     "metadata": {},
     "output_type": "execute_result"
    },
    {
     "data": {
      "image/png": "[encoded data removed]",
      "text/plain": [
       "<Figure size 1008x360 with 3 Axes>"
      ]
     },
     "metadata": {
      "needs_background": "light"
     },
     "output_type": "display_data"
    }
   ],
   "source": [
    "selected_features = ['c_2', 'c_3', 'c_4']\n",
    "tempx = features_df.loc[:,selected_features].values\n",
    "fig, ax = plt.subplots(1,3,figsize = (14,5))\n",
    "ax[0].scatter(tempx[:,0],tempx[:,1], alpha = 0.1)\n",
    "ax[1].scatter(tempx[:,0],tempx[:,2], alpha = 0.1)\n",
    "ax[2].scatter(tempx[:,1],tempx[:,2], alpha = 0.1)\n",
    "\n",
    "ax[0].set_xlabel(selected_features[0])\n",
    "ax[0].set_ylabel(selected_features[1])\n",
    "\n",
    "ax[1].set_xlabel(selected_features[0])\n",
    "ax[1].set_ylabel(selected_features[2])\n",
    "\n",
    "ax[2].set_xlabel(selected_features[1])\n",
    "ax[2].set_ylabel(selected_features[2])\n",
    "ax[0].set_title('Train dataset') \n"
   ]
  },
  {
   "cell_type": "code",
   "execution_count": null,
   "metadata": {},
   "outputs": [],
   "source": []
  }
 ],
 "metadata": {
  "kernelspec": {
   "display_name": "Python 3",
   "language": "python",
   "name": "python3"
  },
  "language_info": {
   "codemirror_mode": {
    "name": "ipython",
    "version": 3
   },
   "file_extension": ".py",
   "mimetype": "text/x-python",
   "name": "python",
   "nbconvert_exporter": "python",
   "pygments_lexer": "ipython3",
   "version": "3.6.10"
  }
 },
 "nbformat": 4,
 "nbformat_minor": 4
}
